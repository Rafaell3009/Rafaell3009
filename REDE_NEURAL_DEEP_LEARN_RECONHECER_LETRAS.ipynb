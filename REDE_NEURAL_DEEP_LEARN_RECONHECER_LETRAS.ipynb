{
  "nbformat": 4,
  "nbformat_minor": 0,
  "metadata": {
    "colab": {
      "provenance": [],
      "toc_visible": true,
      "authorship_tag": "ABX9TyOoMPfF/bakQHDiKlTYJ4NV"
    },
    "kernelspec": {
      "name": "python3",
      "display_name": "Python 3"
    },
    "language_info": {
      "name": "python"
    }
  },
  "cells": [
    {
      "cell_type": "code",
      "execution_count": 12,
      "metadata": {
        "id": "a8mkU82FdufL"
      },
      "outputs": [],
      "source": [
        "import numpy as np\n",
        "import torch\n",
        "import torch.nn.functional as F\n",
        "import torchvision\n",
        "import matplotlib.pyplot as plt\n",
        "from time import time\n",
        "from torchvision import datasets, transforms\n",
        "from torch import nn, optim"
      ]
    },
    {
      "cell_type": "code",
      "source": [
        "transform = transforms.ToTensor() # Definindo a conversão de imagem para tensor\n",
        "trainset = datasets.MNIST('./MNIST_data/', download=True, train=True, transform=transform) # Carrega a parte de treino no dataset\n",
        "trainloader = torch.utils.data.DataLoader(trainset, batch_size=64, shuffle=True) # Cria um buffer para pegar os dados  por partes\n",
        "\n",
        "valset = datasets.MNIST('./MNIST_data/', download=True, train=False, transform=transform) # Carrega a parte de validação do dataset\n",
        "valloader = torch.utils.data.DataLoader(valset, batch_size=64, shuffle=True) # Cria um buffer para pegar os dados  por partes"
      ],
      "metadata": {
        "id": "2I-fXLovd_6D"
      },
      "execution_count": 13,
      "outputs": []
    },
    {
      "cell_type": "code",
      "source": [
        "# Conferir se a estrutura de dados esta representando a imagem corretamente com atravez da\n",
        "# representação de 1 digito\n",
        "dataiter = iter(trainloader)\n",
        "imagens, etiquetas = next(dataiter)\n",
        "plt.imshow(imagens[0].numpy().squeeze(), cmap='gray_r');"
      ],
      "metadata": {
        "colab": {
          "base_uri": "https://localhost:8080/",
          "height": 430
        },
        "id": "tsfao3Es4qY1",
        "outputId": "b9108556-d03b-4d60-abcf-4a441e48f30f"
      },
      "execution_count": 14,
      "outputs": [
        {
          "output_type": "display_data",
          "data": {
            "text/plain": [
              "<Figure size 640x480 with 1 Axes>"
            ],
            "image/png": "[encoded data removed]"
          },
          "metadata": {}
        }
      ]
    },
    {
      "cell_type": "code",
      "source": [
        "# Conferir o tamanho da imagem para conferir o seu tensor.\n",
        "print(imagens[0].shape) # Para verificar as dimensões do tensor de cada imagem\n",
        "print(etiquetas[0].shape) # Para verificar as dimensões do tensor de cada etiqueta\n"
      ],
      "metadata": {
        "colab": {
          "base_uri": "https://localhost:8080/"
        },
        "id": "azFFJCzD9QYU",
        "outputId": "ef9fbfd4-ac18-483f-dbfc-1c2dd4ccbe83"
      },
      "execution_count": 15,
      "outputs": [
        {
          "output_type": "stream",
          "name": "stdout",
          "text": [
            "torch.Size([1, 28, 28])\n",
            "torch.Size([])\n"
          ]
        }
      ]
    },
    {
      "cell_type": "code",
      "source": [
        "# Iserindo o  modelo de rede Keras IncepitionV3\n",
        "class Modelo(nn.Module):\n",
        "    def __init__(self):\n",
        "        super(Modelo, self).__init__()\n",
        "        self.linear1 = nn.Linear(28*28, 128) # Camada de entrada 784 neuronios que se ligam a 128\n",
        "        self.linear2 = nn.Linear(128, 64) # Camada linear 1, 128 neuronios se ligam a 64\n",
        "        self.linear3 = nn.Linear(64, 10) # Camada linear 2, 64 neuronios se ligam a 10\n",
        "        # Para a camada de saída não é  necessário definir nada pois precisamos somente pegar o output\n",
        "        # da  camada interna 2\n",
        "\n",
        "    def forward(self, X):\n",
        "        x = F.relu(self.linear1(X)) # Função de ativação da camada de entrada para a camada interna 1\n",
        "        x = F.relu(self.linear2(X)) # Função de ativação da camada interna 1 para a camada interna 2\n",
        "        x = self.linear3(X) # Função de ativação da camada interna 2 para a camada de saída, nesse caso f(x)=x\n",
        "        return F.log_softmax(X, dim=1) # Dados utilizados para calcular a perda"
      ],
      "metadata": {
        "id": "GcPohctD_C9h"
      },
      "execution_count": 16,
      "outputs": []
    },
    {
      "cell_type": "code",
      "source": [
        "# Otimizador da rede (Estruturade treinamento)\n",
        "def treino(modelo, trainloader, device):\n",
        "    otimizador = optim.SGD(modelo.parameters(), lr=0.01, momentum=0.5) # Define a politica de atualização dos pesos e das bias\n",
        "    inicio = time() # Time para sabermos quanto tempo levou o treino\n",
        "\n",
        "    criterio = nn.NLLLoss() # Definindo o criterio para calcular a perda\n",
        "    EPOCHS = 30 # Numero de epochs que o algoritimo rodará\n",
        "    modelo.train() # Ativando o modelo treinamento\n",
        "\n",
        "    for epoch in range(EPOCHS):\n",
        "        perda_acumulada = 0 # Inicialização da perda de epoch em questão\n",
        "\n",
        "        for imagens, etiquetas in trainloader:\n",
        "            imagens = imagens.view(imagens.shape[0], -1) # Convertendo a imagem para \"vetores\" de 28*28 casas para ficarem compativeis\n",
        "            otimizador.zero_grad() # zerando os gradientes por conta dociclo anterior\n",
        "\n",
        "            output = modelo(imagens.to(device)) # Colocando os dados no modelo\n",
        "            perda_instantanea = criterio(output,etiquetas.to(device)) # Colocando os dados no modelo\n",
        "\n",
        "            perda_instantanea.backward() # Back propagation a partir da perda\n",
        "            otimizador.step() # Atualizando os pesos e as bias\n",
        "\n",
        "            perda_acumulada += perda_instantanea.item() # Atualização da perda acumulada\n",
        "\n",
        "        else:\n",
        "            print(\"Epoch {} - Perda resultante: {}\".format(epoch+1, perda_acumulada/len(trainloader)))\n",
        "    print(\"\\nTempo de treino (em minutos) =\",(time()-inicio)/60)"
      ],
      "metadata": {
        "id": "jWOavyJVFses"
      },
      "execution_count": 17,
      "outputs": []
    },
    {
      "cell_type": "code",
      "source": [
        "def validacao(modelo, valloader, device):\n",
        "    conta_corretas, conta_todas = 0, 0\n",
        "    for imagens, etiquetas in valloader:\n",
        "        for i in range(len(etiquetas)):\n",
        "            img = imagens[i].view(1, 784)\n",
        "            # Desativar o autograd para acelerar a validação. Grafos computacionais dinâmicos tem um custo auto de processamento\n",
        "            with torch.no_grad():\n",
        "                logps = modelo(img.to(device)) # Output do modelo em escala logaritmica\n",
        "\n",
        "            ps = torch.exp(logps) # Converte o output escala normal (lembrando que é um tensor)\n",
        "            probab = list(ps.cpu().numpy()[0])\n",
        "            etiqueta_pred = probab.index(max(probab)) # Converte o tensor em número, no caso, o número que o modelo previu como correto\n",
        "            etiqueta_certa = etiquetas.numpy()[i]\n",
        "            if(etiqueta_certa == etiqueta_pred):  # Compara a previsão com o valor correto\n",
        "                conta_corretas += 1\n",
        "            conta_todas += 1\n",
        "    print(\"Total de imagens testadas =\", conta_todas)\n",
        "    print(\"\\nPrecisão do modelo = {}%\".format(conta_corretas*100/conta_todas))\n"
      ],
      "metadata": {
        "id": "PtUzNveyKApS"
      },
      "execution_count": 18,
      "outputs": []
    },
    {
      "cell_type": "code",
      "source": [
        "modelo = Modelo()\n",
        "device = torch.device(\"cuda\" if torch.cuda.is_available() else \"cpu\")\n",
        "modelo.to(device)"
      ],
      "metadata": {
        "colab": {
          "base_uri": "https://localhost:8080/"
        },
        "id": "pRzEoH6AQcKm",
        "outputId": "8094aea0-d28b-46f9-ed43-b90c04d2cd20"
      },
      "execution_count": 19,
      "outputs": [
        {
          "output_type": "execute_result",
          "data": {
            "text/plain": [
              "Modelo(\n",
              "  (linear1): Linear(in_features=784, out_features=128, bias=True)\n",
              "  (linear2): Linear(in_features=128, out_features=64, bias=True)\n",
              "  (linear3): Linear(in_features=64, out_features=10, bias=True)\n",
              ")"
            ]
          },
          "metadata": {},
          "execution_count": 19
        }
      ]
    }
  ]
}